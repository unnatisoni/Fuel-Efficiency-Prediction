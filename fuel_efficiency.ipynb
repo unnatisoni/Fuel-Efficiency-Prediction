{
  "nbformat": 4,
  "nbformat_minor": 0,
  "metadata": {
    "colab": {
      "name": "fuel_efficiency.ipynb",
      "provenance": [],
      "collapsed_sections": []
    },
    "kernelspec": {
      "name": "python3",
      "display_name": "Python 3"
    },
    "accelerator": "GPU"
  },
  "cells": [
    {
      "cell_type": "code",
      "metadata": {
        "id": "KbSGHxpF54V6"
      },
      "source": [
        "import pandas as pd\r\n",
        "import numpy as np"
      ],
      "execution_count": 32,
      "outputs": []
    },
    {
      "cell_type": "code",
      "metadata": {
        "id": "xCWdg4iL6c2B"
      },
      "source": [
        "df= pd.read_csv(r\"/content/carmpg.csv\",na_values=\"?\")"
      ],
      "execution_count": 33,
      "outputs": []
    },
    {
      "cell_type": "code",
      "metadata": {
        "colab": {
          "base_uri": "https://localhost:8080/",
          "height": 195
        },
        "id": "tuDRAJgP6PyK",
        "outputId": "39bfa1a8-81db-43b6-fa95-0ff8246165ee"
      },
      "source": [
        "df.head()"
      ],
      "execution_count": 34,
      "outputs": [
        {
          "output_type": "execute_result",
          "data": {
            "text/html": [
              "<div>\n",
              "<style scoped>\n",
              "    .dataframe tbody tr th:only-of-type {\n",
              "        vertical-align: middle;\n",
              "    }\n",
              "\n",
              "    .dataframe tbody tr th {\n",
              "        vertical-align: top;\n",
              "    }\n",
              "\n",
              "    .dataframe thead th {\n",
              "        text-align: right;\n",
              "    }\n",
              "</style>\n",
              "<table border=\"1\" class=\"dataframe\">\n",
              "  <thead>\n",
              "    <tr style=\"text-align: right;\">\n",
              "      <th></th>\n",
              "      <th>mpg</th>\n",
              "      <th>cylinders</th>\n",
              "      <th>displacement</th>\n",
              "      <th>horsepower</th>\n",
              "      <th>weight</th>\n",
              "      <th>acceleration</th>\n",
              "      <th>model year</th>\n",
              "      <th>origin</th>\n",
              "      <th>car name</th>\n",
              "    </tr>\n",
              "  </thead>\n",
              "  <tbody>\n",
              "    <tr>\n",
              "      <th>0</th>\n",
              "      <td>18.0</td>\n",
              "      <td>8</td>\n",
              "      <td>307.0</td>\n",
              "      <td>130.0</td>\n",
              "      <td>3504</td>\n",
              "      <td>12.0</td>\n",
              "      <td>70</td>\n",
              "      <td>1</td>\n",
              "      <td>\"chevrolet chevelle malibu\"</td>\n",
              "    </tr>\n",
              "    <tr>\n",
              "      <th>1</th>\n",
              "      <td>15.0</td>\n",
              "      <td>8</td>\n",
              "      <td>350.0</td>\n",
              "      <td>165.0</td>\n",
              "      <td>3693</td>\n",
              "      <td>11.5</td>\n",
              "      <td>70</td>\n",
              "      <td>1</td>\n",
              "      <td>\"buick skylark 320\"</td>\n",
              "    </tr>\n",
              "    <tr>\n",
              "      <th>2</th>\n",
              "      <td>18.0</td>\n",
              "      <td>8</td>\n",
              "      <td>318.0</td>\n",
              "      <td>150.0</td>\n",
              "      <td>3436</td>\n",
              "      <td>11.0</td>\n",
              "      <td>70</td>\n",
              "      <td>1</td>\n",
              "      <td>\"plymouth satellite\"</td>\n",
              "    </tr>\n",
              "    <tr>\n",
              "      <th>3</th>\n",
              "      <td>16.0</td>\n",
              "      <td>8</td>\n",
              "      <td>304.0</td>\n",
              "      <td>150.0</td>\n",
              "      <td>3433</td>\n",
              "      <td>12.0</td>\n",
              "      <td>70</td>\n",
              "      <td>1</td>\n",
              "      <td>\"amc rebel sst\"</td>\n",
              "    </tr>\n",
              "    <tr>\n",
              "      <th>4</th>\n",
              "      <td>17.0</td>\n",
              "      <td>8</td>\n",
              "      <td>302.0</td>\n",
              "      <td>140.0</td>\n",
              "      <td>3449</td>\n",
              "      <td>10.5</td>\n",
              "      <td>70</td>\n",
              "      <td>1</td>\n",
              "      <td>\"ford torino\"</td>\n",
              "    </tr>\n",
              "  </tbody>\n",
              "</table>\n",
              "</div>"
            ],
            "text/plain": [
              "    mpg  cylinders  ...  origin                     car name\n",
              "0  18.0          8  ...       1  \"chevrolet chevelle malibu\"\n",
              "1  15.0          8  ...       1          \"buick skylark 320\"\n",
              "2  18.0          8  ...       1         \"plymouth satellite\"\n",
              "3  16.0          8  ...       1              \"amc rebel sst\"\n",
              "4  17.0          8  ...       1                \"ford torino\"\n",
              "\n",
              "[5 rows x 9 columns]"
            ]
          },
          "metadata": {
            "tags": []
          },
          "execution_count": 34
        }
      ]
    },
    {
      "cell_type": "markdown",
      "metadata": {
        "id": "9suj5YsRgA24"
      },
      "source": [
        "# EDD"
      ]
    },
    {
      "cell_type": "code",
      "metadata": {
        "colab": {
          "base_uri": "https://localhost:8080/"
        },
        "id": "AU2XJxjR7E7o",
        "outputId": "f057f9a9-f103-417c-88d3-bc3cea232943"
      },
      "source": [
        "df.info()"
      ],
      "execution_count": 35,
      "outputs": [
        {
          "output_type": "stream",
          "text": [
            "<class 'pandas.core.frame.DataFrame'>\n",
            "RangeIndex: 398 entries, 0 to 397\n",
            "Data columns (total 9 columns):\n",
            " #   Column        Non-Null Count  Dtype  \n",
            "---  ------        --------------  -----  \n",
            " 0   mpg           398 non-null    float64\n",
            " 1   cylinders     398 non-null    int64  \n",
            " 2   displacement  398 non-null    float64\n",
            " 3   horsepower    392 non-null    float64\n",
            " 4   weight        398 non-null    int64  \n",
            " 5   acceleration  398 non-null    float64\n",
            " 6   model year    398 non-null    int64  \n",
            " 7   origin        398 non-null    int64  \n",
            " 8   car name      398 non-null    object \n",
            "dtypes: float64(4), int64(4), object(1)\n",
            "memory usage: 28.1+ KB\n"
          ],
          "name": "stdout"
        }
      ]
    },
    {
      "cell_type": "code",
      "metadata": {
        "colab": {
          "base_uri": "https://localhost:8080/",
          "height": 284
        },
        "id": "i-fCPss77JAJ",
        "outputId": "e32b6182-fe85-4099-c7de-e5644295a223"
      },
      "source": [
        "df.describe()"
      ],
      "execution_count": 36,
      "outputs": [
        {
          "output_type": "execute_result",
          "data": {
            "text/html": [
              "<div>\n",
              "<style scoped>\n",
              "    .dataframe tbody tr th:only-of-type {\n",
              "        vertical-align: middle;\n",
              "    }\n",
              "\n",
              "    .dataframe tbody tr th {\n",
              "        vertical-align: top;\n",
              "    }\n",
              "\n",
              "    .dataframe thead th {\n",
              "        text-align: right;\n",
              "    }\n",
              "</style>\n",
              "<table border=\"1\" class=\"dataframe\">\n",
              "  <thead>\n",
              "    <tr style=\"text-align: right;\">\n",
              "      <th></th>\n",
              "      <th>mpg</th>\n",
              "      <th>cylinders</th>\n",
              "      <th>displacement</th>\n",
              "      <th>horsepower</th>\n",
              "      <th>weight</th>\n",
              "      <th>acceleration</th>\n",
              "      <th>model year</th>\n",
              "      <th>origin</th>\n",
              "    </tr>\n",
              "  </thead>\n",
              "  <tbody>\n",
              "    <tr>\n",
              "      <th>count</th>\n",
              "      <td>398.000000</td>\n",
              "      <td>398.000000</td>\n",
              "      <td>398.000000</td>\n",
              "      <td>392.000000</td>\n",
              "      <td>398.000000</td>\n",
              "      <td>398.000000</td>\n",
              "      <td>398.000000</td>\n",
              "      <td>398.000000</td>\n",
              "    </tr>\n",
              "    <tr>\n",
              "      <th>mean</th>\n",
              "      <td>23.514573</td>\n",
              "      <td>5.454774</td>\n",
              "      <td>193.425879</td>\n",
              "      <td>104.469388</td>\n",
              "      <td>2970.424623</td>\n",
              "      <td>15.568090</td>\n",
              "      <td>76.010050</td>\n",
              "      <td>1.572864</td>\n",
              "    </tr>\n",
              "    <tr>\n",
              "      <th>std</th>\n",
              "      <td>7.815984</td>\n",
              "      <td>1.701004</td>\n",
              "      <td>104.269838</td>\n",
              "      <td>38.491160</td>\n",
              "      <td>846.841774</td>\n",
              "      <td>2.757689</td>\n",
              "      <td>3.697627</td>\n",
              "      <td>0.802055</td>\n",
              "    </tr>\n",
              "    <tr>\n",
              "      <th>min</th>\n",
              "      <td>9.000000</td>\n",
              "      <td>3.000000</td>\n",
              "      <td>68.000000</td>\n",
              "      <td>46.000000</td>\n",
              "      <td>1613.000000</td>\n",
              "      <td>8.000000</td>\n",
              "      <td>70.000000</td>\n",
              "      <td>1.000000</td>\n",
              "    </tr>\n",
              "    <tr>\n",
              "      <th>25%</th>\n",
              "      <td>17.500000</td>\n",
              "      <td>4.000000</td>\n",
              "      <td>104.250000</td>\n",
              "      <td>75.000000</td>\n",
              "      <td>2223.750000</td>\n",
              "      <td>13.825000</td>\n",
              "      <td>73.000000</td>\n",
              "      <td>1.000000</td>\n",
              "    </tr>\n",
              "    <tr>\n",
              "      <th>50%</th>\n",
              "      <td>23.000000</td>\n",
              "      <td>4.000000</td>\n",
              "      <td>148.500000</td>\n",
              "      <td>93.500000</td>\n",
              "      <td>2803.500000</td>\n",
              "      <td>15.500000</td>\n",
              "      <td>76.000000</td>\n",
              "      <td>1.000000</td>\n",
              "    </tr>\n",
              "    <tr>\n",
              "      <th>75%</th>\n",
              "      <td>29.000000</td>\n",
              "      <td>8.000000</td>\n",
              "      <td>262.000000</td>\n",
              "      <td>126.000000</td>\n",
              "      <td>3608.000000</td>\n",
              "      <td>17.175000</td>\n",
              "      <td>79.000000</td>\n",
              "      <td>2.000000</td>\n",
              "    </tr>\n",
              "    <tr>\n",
              "      <th>max</th>\n",
              "      <td>46.600000</td>\n",
              "      <td>8.000000</td>\n",
              "      <td>455.000000</td>\n",
              "      <td>230.000000</td>\n",
              "      <td>5140.000000</td>\n",
              "      <td>24.800000</td>\n",
              "      <td>82.000000</td>\n",
              "      <td>3.000000</td>\n",
              "    </tr>\n",
              "  </tbody>\n",
              "</table>\n",
              "</div>"
            ],
            "text/plain": [
              "              mpg   cylinders  ...  model year      origin\n",
              "count  398.000000  398.000000  ...  398.000000  398.000000\n",
              "mean    23.514573    5.454774  ...   76.010050    1.572864\n",
              "std      7.815984    1.701004  ...    3.697627    0.802055\n",
              "min      9.000000    3.000000  ...   70.000000    1.000000\n",
              "25%     17.500000    4.000000  ...   73.000000    1.000000\n",
              "50%     23.000000    4.000000  ...   76.000000    1.000000\n",
              "75%     29.000000    8.000000  ...   79.000000    2.000000\n",
              "max     46.600000    8.000000  ...   82.000000    3.000000\n",
              "\n",
              "[8 rows x 8 columns]"
            ]
          },
          "metadata": {
            "tags": []
          },
          "execution_count": 36
        }
      ]
    },
    {
      "cell_type": "code",
      "metadata": {
        "colab": {
          "base_uri": "https://localhost:8080/"
        },
        "id": "fBZmtoWf7PT1",
        "outputId": "460f9e87-2fbd-48bd-87e4-dab8378c0f63"
      },
      "source": [
        "df.nunique()"
      ],
      "execution_count": 37,
      "outputs": [
        {
          "output_type": "execute_result",
          "data": {
            "text/plain": [
              "mpg             129\n",
              "cylinders         5\n",
              "displacement     82\n",
              "horsepower       93\n",
              "weight          351\n",
              "acceleration     95\n",
              "model year       13\n",
              "origin            3\n",
              "car name        305\n",
              "dtype: int64"
            ]
          },
          "metadata": {
            "tags": []
          },
          "execution_count": 37
        }
      ]
    },
    {
      "cell_type": "code",
      "metadata": {
        "colab": {
          "base_uri": "https://localhost:8080/"
        },
        "id": "PmkExuM67U7T",
        "outputId": "56c43860-72a6-4ded-ab91-811cae98fe63"
      },
      "source": [
        "df.isnull().sum()"
      ],
      "execution_count": 38,
      "outputs": [
        {
          "output_type": "execute_result",
          "data": {
            "text/plain": [
              "mpg             0\n",
              "cylinders       0\n",
              "displacement    0\n",
              "horsepower      6\n",
              "weight          0\n",
              "acceleration    0\n",
              "model year      0\n",
              "origin          0\n",
              "car name        0\n",
              "dtype: int64"
            ]
          },
          "metadata": {
            "tags": []
          },
          "execution_count": 38
        }
      ]
    },
    {
      "cell_type": "code",
      "metadata": {
        "id": "s9cCQr5S8EHg"
      },
      "source": [
        "df.dropna(axis=0,inplace=True)"
      ],
      "execution_count": 39,
      "outputs": []
    },
    {
      "cell_type": "code",
      "metadata": {
        "id": "NNPUosHu9LZL"
      },
      "source": [
        "df.drop([\"car name\"],axis=1,inplace=True)"
      ],
      "execution_count": 40,
      "outputs": []
    },
    {
      "cell_type": "code",
      "metadata": {
        "colab": {
          "base_uri": "https://localhost:8080/",
          "height": 195
        },
        "id": "Enl5BFZeeVLI",
        "outputId": "0288fc54-a327-43aa-b71d-df24a8e11f53"
      },
      "source": [
        "df.head()"
      ],
      "execution_count": 41,
      "outputs": [
        {
          "output_type": "execute_result",
          "data": {
            "text/html": [
              "<div>\n",
              "<style scoped>\n",
              "    .dataframe tbody tr th:only-of-type {\n",
              "        vertical-align: middle;\n",
              "    }\n",
              "\n",
              "    .dataframe tbody tr th {\n",
              "        vertical-align: top;\n",
              "    }\n",
              "\n",
              "    .dataframe thead th {\n",
              "        text-align: right;\n",
              "    }\n",
              "</style>\n",
              "<table border=\"1\" class=\"dataframe\">\n",
              "  <thead>\n",
              "    <tr style=\"text-align: right;\">\n",
              "      <th></th>\n",
              "      <th>mpg</th>\n",
              "      <th>cylinders</th>\n",
              "      <th>displacement</th>\n",
              "      <th>horsepower</th>\n",
              "      <th>weight</th>\n",
              "      <th>acceleration</th>\n",
              "      <th>model year</th>\n",
              "      <th>origin</th>\n",
              "    </tr>\n",
              "  </thead>\n",
              "  <tbody>\n",
              "    <tr>\n",
              "      <th>0</th>\n",
              "      <td>18.0</td>\n",
              "      <td>8</td>\n",
              "      <td>307.0</td>\n",
              "      <td>130.0</td>\n",
              "      <td>3504</td>\n",
              "      <td>12.0</td>\n",
              "      <td>70</td>\n",
              "      <td>1</td>\n",
              "    </tr>\n",
              "    <tr>\n",
              "      <th>1</th>\n",
              "      <td>15.0</td>\n",
              "      <td>8</td>\n",
              "      <td>350.0</td>\n",
              "      <td>165.0</td>\n",
              "      <td>3693</td>\n",
              "      <td>11.5</td>\n",
              "      <td>70</td>\n",
              "      <td>1</td>\n",
              "    </tr>\n",
              "    <tr>\n",
              "      <th>2</th>\n",
              "      <td>18.0</td>\n",
              "      <td>8</td>\n",
              "      <td>318.0</td>\n",
              "      <td>150.0</td>\n",
              "      <td>3436</td>\n",
              "      <td>11.0</td>\n",
              "      <td>70</td>\n",
              "      <td>1</td>\n",
              "    </tr>\n",
              "    <tr>\n",
              "      <th>3</th>\n",
              "      <td>16.0</td>\n",
              "      <td>8</td>\n",
              "      <td>304.0</td>\n",
              "      <td>150.0</td>\n",
              "      <td>3433</td>\n",
              "      <td>12.0</td>\n",
              "      <td>70</td>\n",
              "      <td>1</td>\n",
              "    </tr>\n",
              "    <tr>\n",
              "      <th>4</th>\n",
              "      <td>17.0</td>\n",
              "      <td>8</td>\n",
              "      <td>302.0</td>\n",
              "      <td>140.0</td>\n",
              "      <td>3449</td>\n",
              "      <td>10.5</td>\n",
              "      <td>70</td>\n",
              "      <td>1</td>\n",
              "    </tr>\n",
              "  </tbody>\n",
              "</table>\n",
              "</div>"
            ],
            "text/plain": [
              "    mpg  cylinders  displacement  ...  acceleration  model year  origin\n",
              "0  18.0          8         307.0  ...          12.0          70       1\n",
              "1  15.0          8         350.0  ...          11.5          70       1\n",
              "2  18.0          8         318.0  ...          11.0          70       1\n",
              "3  16.0          8         304.0  ...          12.0          70       1\n",
              "4  17.0          8         302.0  ...          10.5          70       1\n",
              "\n",
              "[5 rows x 8 columns]"
            ]
          },
          "metadata": {
            "tags": []
          },
          "execution_count": 41
        }
      ]
    },
    {
      "cell_type": "markdown",
      "metadata": {
        "id": "FGP-s0n0gTcx"
      },
      "source": [
        "## Splitting the dataset into training and testing"
      ]
    },
    {
      "cell_type": "code",
      "metadata": {
        "id": "p1iYBJlygdQR"
      },
      "source": [
        "X= df.drop([\"mpg\"],axis=1)\r\n",
        "y=df[\"mpg\"]"
      ],
      "execution_count": 42,
      "outputs": []
    },
    {
      "cell_type": "code",
      "metadata": {
        "colab": {
          "base_uri": "https://localhost:8080/",
          "height": 195
        },
        "id": "YsZNt11Zgo2k",
        "outputId": "30d33487-cb0e-4efe-f781-9fa1a684f9f7"
      },
      "source": [
        "X.head()"
      ],
      "execution_count": 43,
      "outputs": [
        {
          "output_type": "execute_result",
          "data": {
            "text/html": [
              "<div>\n",
              "<style scoped>\n",
              "    .dataframe tbody tr th:only-of-type {\n",
              "        vertical-align: middle;\n",
              "    }\n",
              "\n",
              "    .dataframe tbody tr th {\n",
              "        vertical-align: top;\n",
              "    }\n",
              "\n",
              "    .dataframe thead th {\n",
              "        text-align: right;\n",
              "    }\n",
              "</style>\n",
              "<table border=\"1\" class=\"dataframe\">\n",
              "  <thead>\n",
              "    <tr style=\"text-align: right;\">\n",
              "      <th></th>\n",
              "      <th>cylinders</th>\n",
              "      <th>displacement</th>\n",
              "      <th>horsepower</th>\n",
              "      <th>weight</th>\n",
              "      <th>acceleration</th>\n",
              "      <th>model year</th>\n",
              "      <th>origin</th>\n",
              "    </tr>\n",
              "  </thead>\n",
              "  <tbody>\n",
              "    <tr>\n",
              "      <th>0</th>\n",
              "      <td>8</td>\n",
              "      <td>307.0</td>\n",
              "      <td>130.0</td>\n",
              "      <td>3504</td>\n",
              "      <td>12.0</td>\n",
              "      <td>70</td>\n",
              "      <td>1</td>\n",
              "    </tr>\n",
              "    <tr>\n",
              "      <th>1</th>\n",
              "      <td>8</td>\n",
              "      <td>350.0</td>\n",
              "      <td>165.0</td>\n",
              "      <td>3693</td>\n",
              "      <td>11.5</td>\n",
              "      <td>70</td>\n",
              "      <td>1</td>\n",
              "    </tr>\n",
              "    <tr>\n",
              "      <th>2</th>\n",
              "      <td>8</td>\n",
              "      <td>318.0</td>\n",
              "      <td>150.0</td>\n",
              "      <td>3436</td>\n",
              "      <td>11.0</td>\n",
              "      <td>70</td>\n",
              "      <td>1</td>\n",
              "    </tr>\n",
              "    <tr>\n",
              "      <th>3</th>\n",
              "      <td>8</td>\n",
              "      <td>304.0</td>\n",
              "      <td>150.0</td>\n",
              "      <td>3433</td>\n",
              "      <td>12.0</td>\n",
              "      <td>70</td>\n",
              "      <td>1</td>\n",
              "    </tr>\n",
              "    <tr>\n",
              "      <th>4</th>\n",
              "      <td>8</td>\n",
              "      <td>302.0</td>\n",
              "      <td>140.0</td>\n",
              "      <td>3449</td>\n",
              "      <td>10.5</td>\n",
              "      <td>70</td>\n",
              "      <td>1</td>\n",
              "    </tr>\n",
              "  </tbody>\n",
              "</table>\n",
              "</div>"
            ],
            "text/plain": [
              "   cylinders  displacement  horsepower  ...  acceleration  model year  origin\n",
              "0          8         307.0       130.0  ...          12.0          70       1\n",
              "1          8         350.0       165.0  ...          11.5          70       1\n",
              "2          8         318.0       150.0  ...          11.0          70       1\n",
              "3          8         304.0       150.0  ...          12.0          70       1\n",
              "4          8         302.0       140.0  ...          10.5          70       1\n",
              "\n",
              "[5 rows x 7 columns]"
            ]
          },
          "metadata": {
            "tags": []
          },
          "execution_count": 43
        }
      ]
    },
    {
      "cell_type": "code",
      "metadata": {
        "colab": {
          "base_uri": "https://localhost:8080/"
        },
        "id": "mkkdudcHgs2K",
        "outputId": "88101698-05e4-443e-e58a-7e237a0600c0"
      },
      "source": [
        "y.head()"
      ],
      "execution_count": 44,
      "outputs": [
        {
          "output_type": "execute_result",
          "data": {
            "text/plain": [
              "0    18.0\n",
              "1    15.0\n",
              "2    18.0\n",
              "3    16.0\n",
              "4    17.0\n",
              "Name: mpg, dtype: float64"
            ]
          },
          "metadata": {
            "tags": []
          },
          "execution_count": 44
        }
      ]
    },
    {
      "cell_type": "code",
      "metadata": {
        "colab": {
          "base_uri": "https://localhost:8080/"
        },
        "id": "wKr-_M03gzUB",
        "outputId": "9707ca60-7896-4395-9c9d-7b972dcc7fd5"
      },
      "source": [
        "X.shape,y.shape"
      ],
      "execution_count": 45,
      "outputs": [
        {
          "output_type": "execute_result",
          "data": {
            "text/plain": [
              "((392, 7), (392,))"
            ]
          },
          "metadata": {
            "tags": []
          },
          "execution_count": 45
        }
      ]
    },
    {
      "cell_type": "code",
      "metadata": {
        "id": "FCHnc8Y2g5NB"
      },
      "source": [
        "from sklearn.model_selection import train_test_split"
      ],
      "execution_count": 46,
      "outputs": []
    },
    {
      "cell_type": "code",
      "metadata": {
        "id": "LNJLVKfUhBCD"
      },
      "source": [
        "x_train,x_test,y_train,y_test= train_test_split(X,y,test_size=0.2,random_state=12)"
      ],
      "execution_count": 47,
      "outputs": []
    },
    {
      "cell_type": "code",
      "metadata": {
        "colab": {
          "base_uri": "https://localhost:8080/"
        },
        "id": "-qWb7wIghVSC",
        "outputId": "b8272f0b-2201-4957-b28c-2802a321d3b5"
      },
      "source": [
        "x_train.shape,y_train.shape,x_test.shape,y_test.shape"
      ],
      "execution_count": 48,
      "outputs": [
        {
          "output_type": "execute_result",
          "data": {
            "text/plain": [
              "((313, 7), (313,), (79, 7), (79,))"
            ]
          },
          "metadata": {
            "tags": []
          },
          "execution_count": 48
        }
      ]
    },
    {
      "cell_type": "markdown",
      "metadata": {
        "id": "23oTXanayJbu"
      },
      "source": [
        "## Normalize the Dataset"
      ]
    },
    {
      "cell_type": "code",
      "metadata": {
        "id": "rPmTbsh9hdnW"
      },
      "source": [
        "from sklearn.preprocessing import StandardScaler"
      ],
      "execution_count": 49,
      "outputs": []
    },
    {
      "cell_type": "code",
      "metadata": {
        "id": "aAN3Qp83hmJ-"
      },
      "source": [
        "sc= StandardScaler()"
      ],
      "execution_count": 50,
      "outputs": []
    },
    {
      "cell_type": "code",
      "metadata": {
        "id": "aE-unD-Mhotp"
      },
      "source": [
        "x_train_std = sc.fit_transform(x_train)\r\n",
        "x_test_std= sc.transform(x_test)"
      ],
      "execution_count": 51,
      "outputs": []
    },
    {
      "cell_type": "code",
      "metadata": {
        "colab": {
          "base_uri": "https://localhost:8080/"
        },
        "id": "Kdnhpjn_h5pv",
        "outputId": "68ca30cb-5fea-409b-d3a0-659b71f07041"
      },
      "source": [
        "x_train_std"
      ],
      "execution_count": 52,
      "outputs": [
        {
          "output_type": "execute_result",
          "data": {
            "text/plain": [
              "array([[ 1.46427195,  1.48379476,  1.21117887, ..., -0.91858   ,\n",
              "        -1.0473706 , -0.68499023],\n",
              "       [-0.87110191, -1.06419035, -1.38292666, ...,  2.5233757 ,\n",
              "         0.04904076, -0.68499023],\n",
              "       [ 0.29658502,  0.51632673, -0.15008443, ...,  0.57792248,\n",
              "        -0.49916492, -0.68499023],\n",
              "       ...,\n",
              "       [-0.87110191, -0.53735132, -0.45829499, ..., -0.02067851,\n",
              "         0.59724644, -0.68499023],\n",
              "       [ 1.46427195,  1.47421587,  1.00570517, ..., -0.54445438,\n",
              "        -0.22506208, -0.68499023],\n",
              "       [-1.45494537, -1.20787372, -0.15008443, ..., -1.10564281,\n",
              "         1.14545212,  1.8826977 ]])"
            ]
          },
          "metadata": {
            "tags": []
          },
          "execution_count": 52
        }
      ]
    },
    {
      "cell_type": "code",
      "metadata": {
        "id": "c72Zu6GViqNQ"
      },
      "source": [
        "import pickle\r\n",
        "pickle.dump(sc,open('sc.pkl','wb'))\r\n",
        "#sc.save('Standard_scalar.h5')"
      ],
      "execution_count": 102,
      "outputs": []
    },
    {
      "cell_type": "markdown",
      "metadata": {
        "id": "BdPNSD34jsmY"
      },
      "source": [
        "## Build model and train"
      ]
    },
    {
      "cell_type": "code",
      "metadata": {
        "id": "S_iCM4B6jv3i"
      },
      "source": [
        "import tensorflow as tf\r\n",
        "from tensorflow import keras\r\n",
        "from tensorflow.keras.models import Sequential\r\n",
        "from tensorflow.keras.layers import Dense"
      ],
      "execution_count": 83,
      "outputs": []
    },
    {
      "cell_type": "code",
      "metadata": {
        "id": "yVcWAa4zkI1Y"
      },
      "source": [
        "model= Sequential()\r\n",
        "model.add(Dense(100,activation='relu',input_shape=[7]))\r\n",
        "model.add(Dense(64,activation='relu'))\r\n",
        "model.add(Dense(32,activation='relu'))\r\n",
        "model.add(Dense(1))\r\n"
      ],
      "execution_count": 84,
      "outputs": []
    },
    {
      "cell_type": "code",
      "metadata": {
        "id": "D0PG4CXFmLUM"
      },
      "source": [
        "model.compile(loss='mean_squared_error',optimizer='Adam',metrics=['mean_squared_error','mean_absolute_error'])"
      ],
      "execution_count": 85,
      "outputs": []
    },
    {
      "cell_type": "code",
      "metadata": {
        "colab": {
          "base_uri": "https://localhost:8080/"
        },
        "id": "uRBQlT8OmslW",
        "outputId": "9d1fb573-b7ba-4eb9-e800-b4fe3f37275e"
      },
      "source": [
        "model.summary()"
      ],
      "execution_count": 86,
      "outputs": [
        {
          "output_type": "stream",
          "text": [
            "Model: \"sequential_2\"\n",
            "_________________________________________________________________\n",
            "Layer (type)                 Output Shape              Param #   \n",
            "=================================================================\n",
            "dense_8 (Dense)              (None, 100)               800       \n",
            "_________________________________________________________________\n",
            "dense_9 (Dense)              (None, 64)                6464      \n",
            "_________________________________________________________________\n",
            "dense_10 (Dense)             (None, 32)                2080      \n",
            "_________________________________________________________________\n",
            "dense_11 (Dense)             (None, 1)                 33        \n",
            "=================================================================\n",
            "Total params: 9,377\n",
            "Trainable params: 9,377\n",
            "Non-trainable params: 0\n",
            "_________________________________________________________________\n"
          ],
          "name": "stdout"
        }
      ]
    },
    {
      "cell_type": "code",
      "metadata": {
        "colab": {
          "base_uri": "https://localhost:8080/"
        },
        "id": "O219VWStnKvA",
        "outputId": "065e6a68-0b55-43b0-99f9-0a4a43a24b38"
      },
      "source": [
        "model_history=model.fit(x_train_std,y_train,batch_size=5,epochs=200)"
      ],
      "execution_count": 87,
      "outputs": [
        {
          "output_type": "stream",
          "text": [
            "Epoch 1/200\n",
            "63/63 [==============================] - 0s 2ms/step - loss: 525.7325 - mean_squared_error: 525.7325 - mean_absolute_error: 21.3791\n",
            "Epoch 2/200\n",
            "63/63 [==============================] - 0s 2ms/step - loss: 49.7563 - mean_squared_error: 49.7563 - mean_absolute_error: 5.9465\n",
            "Epoch 3/200\n",
            "63/63 [==============================] - 0s 2ms/step - loss: 17.4050 - mean_squared_error: 17.4050 - mean_absolute_error: 3.2615\n",
            "Epoch 4/200\n",
            "63/63 [==============================] - 0s 2ms/step - loss: 14.7702 - mean_squared_error: 14.7702 - mean_absolute_error: 2.8932\n",
            "Epoch 5/200\n",
            "63/63 [==============================] - 0s 2ms/step - loss: 10.3276 - mean_squared_error: 10.3276 - mean_absolute_error: 2.4031\n",
            "Epoch 6/200\n",
            "63/63 [==============================] - 0s 2ms/step - loss: 11.3349 - mean_squared_error: 11.3349 - mean_absolute_error: 2.4411\n",
            "Epoch 7/200\n",
            "63/63 [==============================] - 0s 2ms/step - loss: 8.1880 - mean_squared_error: 8.1880 - mean_absolute_error: 2.2206\n",
            "Epoch 8/200\n",
            "63/63 [==============================] - 0s 2ms/step - loss: 7.6417 - mean_squared_error: 7.6417 - mean_absolute_error: 2.0180\n",
            "Epoch 9/200\n",
            "63/63 [==============================] - 0s 2ms/step - loss: 7.2328 - mean_squared_error: 7.2328 - mean_absolute_error: 1.9490\n",
            "Epoch 10/200\n",
            "63/63 [==============================] - 0s 2ms/step - loss: 7.4699 - mean_squared_error: 7.4699 - mean_absolute_error: 2.0596\n",
            "Epoch 11/200\n",
            "63/63 [==============================] - 0s 2ms/step - loss: 8.8440 - mean_squared_error: 8.8440 - mean_absolute_error: 2.2137\n",
            "Epoch 12/200\n",
            "63/63 [==============================] - 0s 2ms/step - loss: 8.3938 - mean_squared_error: 8.3938 - mean_absolute_error: 2.1408\n",
            "Epoch 13/200\n",
            "63/63 [==============================] - 0s 2ms/step - loss: 7.6210 - mean_squared_error: 7.6210 - mean_absolute_error: 1.9730\n",
            "Epoch 14/200\n",
            "63/63 [==============================] - 0s 2ms/step - loss: 8.2416 - mean_squared_error: 8.2416 - mean_absolute_error: 2.0476\n",
            "Epoch 15/200\n",
            "63/63 [==============================] - 0s 2ms/step - loss: 5.9184 - mean_squared_error: 5.9184 - mean_absolute_error: 1.7542\n",
            "Epoch 16/200\n",
            "63/63 [==============================] - 0s 2ms/step - loss: 6.1597 - mean_squared_error: 6.1597 - mean_absolute_error: 1.8439\n",
            "Epoch 17/200\n",
            "63/63 [==============================] - 0s 2ms/step - loss: 5.9874 - mean_squared_error: 5.9874 - mean_absolute_error: 1.7495\n",
            "Epoch 18/200\n",
            "63/63 [==============================] - 0s 3ms/step - loss: 6.1130 - mean_squared_error: 6.1130 - mean_absolute_error: 1.8629\n",
            "Epoch 19/200\n",
            "63/63 [==============================] - 0s 3ms/step - loss: 7.8930 - mean_squared_error: 7.8930 - mean_absolute_error: 1.9948\n",
            "Epoch 20/200\n",
            "63/63 [==============================] - 0s 2ms/step - loss: 6.7449 - mean_squared_error: 6.7449 - mean_absolute_error: 1.9392\n",
            "Epoch 21/200\n",
            "63/63 [==============================] - 0s 2ms/step - loss: 5.0478 - mean_squared_error: 5.0478 - mean_absolute_error: 1.6786\n",
            "Epoch 22/200\n",
            "63/63 [==============================] - 0s 2ms/step - loss: 4.9729 - mean_squared_error: 4.9729 - mean_absolute_error: 1.6605\n",
            "Epoch 23/200\n",
            "63/63 [==============================] - 0s 3ms/step - loss: 5.6229 - mean_squared_error: 5.6229 - mean_absolute_error: 1.7289\n",
            "Epoch 24/200\n",
            "63/63 [==============================] - 0s 2ms/step - loss: 5.5923 - mean_squared_error: 5.5923 - mean_absolute_error: 1.6637\n",
            "Epoch 25/200\n",
            "63/63 [==============================] - 0s 2ms/step - loss: 6.5881 - mean_squared_error: 6.5881 - mean_absolute_error: 1.9339\n",
            "Epoch 26/200\n",
            "63/63 [==============================] - 0s 2ms/step - loss: 5.4149 - mean_squared_error: 5.4149 - mean_absolute_error: 1.6478\n",
            "Epoch 27/200\n",
            "63/63 [==============================] - 0s 3ms/step - loss: 5.2558 - mean_squared_error: 5.2558 - mean_absolute_error: 1.7156\n",
            "Epoch 28/200\n",
            "63/63 [==============================] - 0s 2ms/step - loss: 4.7238 - mean_squared_error: 4.7238 - mean_absolute_error: 1.5732\n",
            "Epoch 29/200\n",
            "63/63 [==============================] - 0s 2ms/step - loss: 5.5583 - mean_squared_error: 5.5583 - mean_absolute_error: 1.6988\n",
            "Epoch 30/200\n",
            "63/63 [==============================] - 0s 3ms/step - loss: 6.1035 - mean_squared_error: 6.1035 - mean_absolute_error: 1.8123\n",
            "Epoch 31/200\n",
            "63/63 [==============================] - 0s 3ms/step - loss: 4.7247 - mean_squared_error: 4.7247 - mean_absolute_error: 1.5673\n",
            "Epoch 32/200\n",
            "63/63 [==============================] - 0s 2ms/step - loss: 4.3648 - mean_squared_error: 4.3648 - mean_absolute_error: 1.5267\n",
            "Epoch 33/200\n",
            "63/63 [==============================] - 0s 2ms/step - loss: 4.6175 - mean_squared_error: 4.6175 - mean_absolute_error: 1.5774\n",
            "Epoch 34/200\n",
            "63/63 [==============================] - 0s 2ms/step - loss: 5.7032 - mean_squared_error: 5.7032 - mean_absolute_error: 1.7225\n",
            "Epoch 35/200\n",
            "63/63 [==============================] - 0s 2ms/step - loss: 5.8095 - mean_squared_error: 5.8095 - mean_absolute_error: 1.7575\n",
            "Epoch 36/200\n",
            "63/63 [==============================] - 0s 2ms/step - loss: 4.5446 - mean_squared_error: 4.5446 - mean_absolute_error: 1.5166\n",
            "Epoch 37/200\n",
            "63/63 [==============================] - 0s 2ms/step - loss: 5.0841 - mean_squared_error: 5.0841 - mean_absolute_error: 1.6545\n",
            "Epoch 38/200\n",
            "63/63 [==============================] - 0s 2ms/step - loss: 4.8059 - mean_squared_error: 4.8059 - mean_absolute_error: 1.6384\n",
            "Epoch 39/200\n",
            "63/63 [==============================] - 0s 2ms/step - loss: 4.6639 - mean_squared_error: 4.6639 - mean_absolute_error: 1.5745\n",
            "Epoch 40/200\n",
            "63/63 [==============================] - 0s 3ms/step - loss: 4.3229 - mean_squared_error: 4.3229 - mean_absolute_error: 1.5196\n",
            "Epoch 41/200\n",
            "63/63 [==============================] - 0s 3ms/step - loss: 4.5718 - mean_squared_error: 4.5718 - mean_absolute_error: 1.5565\n",
            "Epoch 42/200\n",
            "63/63 [==============================] - 0s 2ms/step - loss: 4.8700 - mean_squared_error: 4.8700 - mean_absolute_error: 1.6020\n",
            "Epoch 43/200\n",
            "63/63 [==============================] - 0s 2ms/step - loss: 4.4389 - mean_squared_error: 4.4389 - mean_absolute_error: 1.5414\n",
            "Epoch 44/200\n",
            "63/63 [==============================] - 0s 2ms/step - loss: 5.2948 - mean_squared_error: 5.2948 - mean_absolute_error: 1.6830\n",
            "Epoch 45/200\n",
            "63/63 [==============================] - 0s 2ms/step - loss: 4.0846 - mean_squared_error: 4.0846 - mean_absolute_error: 1.5415\n",
            "Epoch 46/200\n",
            "63/63 [==============================] - 0s 3ms/step - loss: 4.9504 - mean_squared_error: 4.9504 - mean_absolute_error: 1.6803\n",
            "Epoch 47/200\n",
            "63/63 [==============================] - 0s 3ms/step - loss: 3.4244 - mean_squared_error: 3.4244 - mean_absolute_error: 1.3863\n",
            "Epoch 48/200\n",
            "63/63 [==============================] - 0s 3ms/step - loss: 4.4275 - mean_squared_error: 4.4275 - mean_absolute_error: 1.5542\n",
            "Epoch 49/200\n",
            "63/63 [==============================] - 0s 2ms/step - loss: 3.8755 - mean_squared_error: 3.8755 - mean_absolute_error: 1.4791\n",
            "Epoch 50/200\n",
            "63/63 [==============================] - 0s 2ms/step - loss: 4.3995 - mean_squared_error: 4.3995 - mean_absolute_error: 1.5475\n",
            "Epoch 51/200\n",
            "63/63 [==============================] - 0s 2ms/step - loss: 5.0896 - mean_squared_error: 5.0896 - mean_absolute_error: 1.6609\n",
            "Epoch 52/200\n",
            "63/63 [==============================] - 0s 2ms/step - loss: 4.3318 - mean_squared_error: 4.3318 - mean_absolute_error: 1.5447\n",
            "Epoch 53/200\n",
            "63/63 [==============================] - 0s 2ms/step - loss: 5.6910 - mean_squared_error: 5.6910 - mean_absolute_error: 1.7919\n",
            "Epoch 54/200\n",
            "63/63 [==============================] - 0s 2ms/step - loss: 3.7831 - mean_squared_error: 3.7831 - mean_absolute_error: 1.4641\n",
            "Epoch 55/200\n",
            "63/63 [==============================] - 0s 2ms/step - loss: 3.6918 - mean_squared_error: 3.6918 - mean_absolute_error: 1.4310\n",
            "Epoch 56/200\n",
            "63/63 [==============================] - 0s 2ms/step - loss: 3.5686 - mean_squared_error: 3.5686 - mean_absolute_error: 1.3806\n",
            "Epoch 57/200\n",
            "63/63 [==============================] - 0s 2ms/step - loss: 4.0784 - mean_squared_error: 4.0784 - mean_absolute_error: 1.5255\n",
            "Epoch 58/200\n",
            "63/63 [==============================] - 0s 2ms/step - loss: 4.2531 - mean_squared_error: 4.2531 - mean_absolute_error: 1.4736\n",
            "Epoch 59/200\n",
            "63/63 [==============================] - 0s 3ms/step - loss: 3.5002 - mean_squared_error: 3.5002 - mean_absolute_error: 1.4123\n",
            "Epoch 60/200\n",
            "63/63 [==============================] - 0s 3ms/step - loss: 4.4408 - mean_squared_error: 4.4408 - mean_absolute_error: 1.5754\n",
            "Epoch 61/200\n",
            "63/63 [==============================] - 0s 3ms/step - loss: 3.5025 - mean_squared_error: 3.5025 - mean_absolute_error: 1.4400\n",
            "Epoch 62/200\n",
            "63/63 [==============================] - 0s 2ms/step - loss: 3.1651 - mean_squared_error: 3.1651 - mean_absolute_error: 1.3623\n",
            "Epoch 63/200\n",
            "63/63 [==============================] - 0s 2ms/step - loss: 3.2446 - mean_squared_error: 3.2446 - mean_absolute_error: 1.3101\n",
            "Epoch 64/200\n",
            "63/63 [==============================] - 0s 3ms/step - loss: 3.6788 - mean_squared_error: 3.6788 - mean_absolute_error: 1.3945\n",
            "Epoch 65/200\n",
            "63/63 [==============================] - 0s 2ms/step - loss: 3.6129 - mean_squared_error: 3.6129 - mean_absolute_error: 1.3931\n",
            "Epoch 66/200\n",
            "63/63 [==============================] - 0s 2ms/step - loss: 4.3644 - mean_squared_error: 4.3644 - mean_absolute_error: 1.5350\n",
            "Epoch 67/200\n",
            "63/63 [==============================] - 0s 2ms/step - loss: 3.9589 - mean_squared_error: 3.9589 - mean_absolute_error: 1.4619\n",
            "Epoch 68/200\n",
            "63/63 [==============================] - 0s 2ms/step - loss: 4.3102 - mean_squared_error: 4.3102 - mean_absolute_error: 1.5599\n",
            "Epoch 69/200\n",
            "63/63 [==============================] - 0s 2ms/step - loss: 3.9842 - mean_squared_error: 3.9842 - mean_absolute_error: 1.4996\n",
            "Epoch 70/200\n",
            "63/63 [==============================] - 0s 3ms/step - loss: 3.8297 - mean_squared_error: 3.8297 - mean_absolute_error: 1.4122\n",
            "Epoch 71/200\n",
            "63/63 [==============================] - 0s 2ms/step - loss: 3.3381 - mean_squared_error: 3.3381 - mean_absolute_error: 1.3473\n",
            "Epoch 72/200\n",
            "63/63 [==============================] - 0s 3ms/step - loss: 4.2361 - mean_squared_error: 4.2361 - mean_absolute_error: 1.6021\n",
            "Epoch 73/200\n",
            "63/63 [==============================] - 0s 2ms/step - loss: 3.4872 - mean_squared_error: 3.4872 - mean_absolute_error: 1.3419\n",
            "Epoch 74/200\n",
            "63/63 [==============================] - 0s 3ms/step - loss: 3.7192 - mean_squared_error: 3.7192 - mean_absolute_error: 1.4221\n",
            "Epoch 75/200\n",
            "63/63 [==============================] - 0s 2ms/step - loss: 3.5569 - mean_squared_error: 3.5569 - mean_absolute_error: 1.4305\n",
            "Epoch 76/200\n",
            "63/63 [==============================] - 0s 3ms/step - loss: 4.2761 - mean_squared_error: 4.2761 - mean_absolute_error: 1.6265\n",
            "Epoch 77/200\n",
            "63/63 [==============================] - 0s 2ms/step - loss: 3.3868 - mean_squared_error: 3.3868 - mean_absolute_error: 1.3714\n",
            "Epoch 78/200\n",
            "63/63 [==============================] - 0s 2ms/step - loss: 3.2146 - mean_squared_error: 3.2146 - mean_absolute_error: 1.3355\n",
            "Epoch 79/200\n",
            "63/63 [==============================] - 0s 2ms/step - loss: 3.5262 - mean_squared_error: 3.5262 - mean_absolute_error: 1.3761\n",
            "Epoch 80/200\n",
            "63/63 [==============================] - 0s 2ms/step - loss: 3.3073 - mean_squared_error: 3.3073 - mean_absolute_error: 1.3731\n",
            "Epoch 81/200\n",
            "63/63 [==============================] - 0s 2ms/step - loss: 4.7104 - mean_squared_error: 4.7104 - mean_absolute_error: 1.5903\n",
            "Epoch 82/200\n",
            "63/63 [==============================] - 0s 2ms/step - loss: 4.1039 - mean_squared_error: 4.1039 - mean_absolute_error: 1.4958\n",
            "Epoch 83/200\n",
            "63/63 [==============================] - 0s 2ms/step - loss: 3.3831 - mean_squared_error: 3.3831 - mean_absolute_error: 1.3884\n",
            "Epoch 84/200\n",
            "63/63 [==============================] - 0s 3ms/step - loss: 3.2600 - mean_squared_error: 3.2600 - mean_absolute_error: 1.3116\n",
            "Epoch 85/200\n",
            "63/63 [==============================] - 0s 2ms/step - loss: 3.4981 - mean_squared_error: 3.4981 - mean_absolute_error: 1.3468\n",
            "Epoch 86/200\n",
            "63/63 [==============================] - 0s 2ms/step - loss: 3.5587 - mean_squared_error: 3.5587 - mean_absolute_error: 1.3477\n",
            "Epoch 87/200\n",
            "63/63 [==============================] - 0s 2ms/step - loss: 3.0491 - mean_squared_error: 3.0491 - mean_absolute_error: 1.2905\n",
            "Epoch 88/200\n",
            "63/63 [==============================] - 0s 3ms/step - loss: 3.4890 - mean_squared_error: 3.4890 - mean_absolute_error: 1.3344\n",
            "Epoch 89/200\n",
            "63/63 [==============================] - 0s 2ms/step - loss: 3.6495 - mean_squared_error: 3.6495 - mean_absolute_error: 1.4096\n",
            "Epoch 90/200\n",
            "63/63 [==============================] - 0s 3ms/step - loss: 4.5157 - mean_squared_error: 4.5157 - mean_absolute_error: 1.5973\n",
            "Epoch 91/200\n",
            "63/63 [==============================] - 0s 3ms/step - loss: 3.5597 - mean_squared_error: 3.5597 - mean_absolute_error: 1.3323\n",
            "Epoch 92/200\n",
            "63/63 [==============================] - 0s 2ms/step - loss: 3.0936 - mean_squared_error: 3.0936 - mean_absolute_error: 1.3318\n",
            "Epoch 93/200\n",
            "63/63 [==============================] - 0s 2ms/step - loss: 4.1332 - mean_squared_error: 4.1332 - mean_absolute_error: 1.5147\n",
            "Epoch 94/200\n",
            "63/63 [==============================] - 0s 3ms/step - loss: 3.3558 - mean_squared_error: 3.3558 - mean_absolute_error: 1.3377\n",
            "Epoch 95/200\n",
            "63/63 [==============================] - 0s 2ms/step - loss: 3.7661 - mean_squared_error: 3.7661 - mean_absolute_error: 1.4643\n",
            "Epoch 96/200\n",
            "63/63 [==============================] - 0s 3ms/step - loss: 3.2917 - mean_squared_error: 3.2917 - mean_absolute_error: 1.3332\n",
            "Epoch 97/200\n",
            "63/63 [==============================] - 0s 2ms/step - loss: 3.2168 - mean_squared_error: 3.2168 - mean_absolute_error: 1.2553\n",
            "Epoch 98/200\n",
            "63/63 [==============================] - 0s 2ms/step - loss: 3.3140 - mean_squared_error: 3.3140 - mean_absolute_error: 1.4150\n",
            "Epoch 99/200\n",
            "63/63 [==============================] - 0s 2ms/step - loss: 3.6711 - mean_squared_error: 3.6711 - mean_absolute_error: 1.4305\n",
            "Epoch 100/200\n",
            "63/63 [==============================] - 0s 2ms/step - loss: 3.7997 - mean_squared_error: 3.7997 - mean_absolute_error: 1.3825\n",
            "Epoch 101/200\n",
            "63/63 [==============================] - 0s 2ms/step - loss: 3.2791 - mean_squared_error: 3.2791 - mean_absolute_error: 1.3588\n",
            "Epoch 102/200\n",
            "63/63 [==============================] - 0s 2ms/step - loss: 2.8802 - mean_squared_error: 2.8802 - mean_absolute_error: 1.2911\n",
            "Epoch 103/200\n",
            "63/63 [==============================] - 0s 2ms/step - loss: 3.7027 - mean_squared_error: 3.7027 - mean_absolute_error: 1.4182\n",
            "Epoch 104/200\n",
            "63/63 [==============================] - 0s 2ms/step - loss: 4.3335 - mean_squared_error: 4.3335 - mean_absolute_error: 1.5489\n",
            "Epoch 105/200\n",
            "63/63 [==============================] - 0s 2ms/step - loss: 2.8120 - mean_squared_error: 2.8120 - mean_absolute_error: 1.2229\n",
            "Epoch 106/200\n",
            "63/63 [==============================] - 0s 2ms/step - loss: 2.8900 - mean_squared_error: 2.8900 - mean_absolute_error: 1.2270\n",
            "Epoch 107/200\n",
            "63/63 [==============================] - 0s 2ms/step - loss: 3.1967 - mean_squared_error: 3.1967 - mean_absolute_error: 1.3314\n",
            "Epoch 108/200\n",
            "63/63 [==============================] - 0s 2ms/step - loss: 2.5845 - mean_squared_error: 2.5845 - mean_absolute_error: 1.2080\n",
            "Epoch 109/200\n",
            "63/63 [==============================] - 0s 2ms/step - loss: 2.3469 - mean_squared_error: 2.3469 - mean_absolute_error: 1.1656\n",
            "Epoch 110/200\n",
            "63/63 [==============================] - 0s 2ms/step - loss: 2.9674 - mean_squared_error: 2.9674 - mean_absolute_error: 1.2867\n",
            "Epoch 111/200\n",
            "63/63 [==============================] - 0s 2ms/step - loss: 5.0610 - mean_squared_error: 5.0610 - mean_absolute_error: 1.6783\n",
            "Epoch 112/200\n",
            "63/63 [==============================] - 0s 2ms/step - loss: 2.3764 - mean_squared_error: 2.3764 - mean_absolute_error: 1.0887\n",
            "Epoch 113/200\n",
            "63/63 [==============================] - 0s 2ms/step - loss: 3.8836 - mean_squared_error: 3.8836 - mean_absolute_error: 1.3686\n",
            "Epoch 114/200\n",
            "63/63 [==============================] - 0s 2ms/step - loss: 2.4915 - mean_squared_error: 2.4915 - mean_absolute_error: 1.2084\n",
            "Epoch 115/200\n",
            "63/63 [==============================] - 0s 3ms/step - loss: 3.0085 - mean_squared_error: 3.0085 - mean_absolute_error: 1.2114\n",
            "Epoch 116/200\n",
            "63/63 [==============================] - 0s 3ms/step - loss: 2.7588 - mean_squared_error: 2.7588 - mean_absolute_error: 1.1785\n",
            "Epoch 117/200\n",
            "63/63 [==============================] - 0s 3ms/step - loss: 3.0590 - mean_squared_error: 3.0590 - mean_absolute_error: 1.2821\n",
            "Epoch 118/200\n",
            "63/63 [==============================] - 0s 3ms/step - loss: 2.1155 - mean_squared_error: 2.1155 - mean_absolute_error: 1.0990\n",
            "Epoch 119/200\n",
            "63/63 [==============================] - 0s 2ms/step - loss: 2.5152 - mean_squared_error: 2.5152 - mean_absolute_error: 1.2363\n",
            "Epoch 120/200\n",
            "63/63 [==============================] - 0s 3ms/step - loss: 2.4652 - mean_squared_error: 2.4652 - mean_absolute_error: 1.1730\n",
            "Epoch 121/200\n",
            "63/63 [==============================] - 0s 3ms/step - loss: 2.7747 - mean_squared_error: 2.7747 - mean_absolute_error: 1.2445\n",
            "Epoch 122/200\n",
            "63/63 [==============================] - 0s 3ms/step - loss: 3.2670 - mean_squared_error: 3.2670 - mean_absolute_error: 1.3685\n",
            "Epoch 123/200\n",
            "63/63 [==============================] - 0s 3ms/step - loss: 3.1987 - mean_squared_error: 3.1987 - mean_absolute_error: 1.2615\n",
            "Epoch 124/200\n",
            "63/63 [==============================] - 0s 2ms/step - loss: 3.3660 - mean_squared_error: 3.3660 - mean_absolute_error: 1.3474\n",
            "Epoch 125/200\n",
            "63/63 [==============================] - 0s 2ms/step - loss: 2.5593 - mean_squared_error: 2.5593 - mean_absolute_error: 1.2051\n",
            "Epoch 126/200\n",
            "63/63 [==============================] - 0s 2ms/step - loss: 3.1011 - mean_squared_error: 3.1011 - mean_absolute_error: 1.3254\n",
            "Epoch 127/200\n",
            "63/63 [==============================] - 0s 2ms/step - loss: 2.5195 - mean_squared_error: 2.5195 - mean_absolute_error: 1.2079\n",
            "Epoch 128/200\n",
            "63/63 [==============================] - 0s 2ms/step - loss: 2.8581 - mean_squared_error: 2.8581 - mean_absolute_error: 1.2868\n",
            "Epoch 129/200\n",
            "63/63 [==============================] - 0s 2ms/step - loss: 2.7717 - mean_squared_error: 2.7717 - mean_absolute_error: 1.2442\n",
            "Epoch 130/200\n",
            "63/63 [==============================] - 0s 2ms/step - loss: 3.0698 - mean_squared_error: 3.0698 - mean_absolute_error: 1.3237\n",
            "Epoch 131/200\n",
            "63/63 [==============================] - 0s 2ms/step - loss: 2.6667 - mean_squared_error: 2.6667 - mean_absolute_error: 1.2119\n",
            "Epoch 132/200\n",
            "63/63 [==============================] - 0s 2ms/step - loss: 3.8159 - mean_squared_error: 3.8159 - mean_absolute_error: 1.4692\n",
            "Epoch 133/200\n",
            "63/63 [==============================] - 0s 2ms/step - loss: 3.0157 - mean_squared_error: 3.0157 - mean_absolute_error: 1.2981\n",
            "Epoch 134/200\n",
            "63/63 [==============================] - 0s 3ms/step - loss: 1.8173 - mean_squared_error: 1.8173 - mean_absolute_error: 1.0047\n",
            "Epoch 135/200\n",
            "63/63 [==============================] - 0s 3ms/step - loss: 2.7996 - mean_squared_error: 2.7996 - mean_absolute_error: 1.2286\n",
            "Epoch 136/200\n",
            "63/63 [==============================] - 0s 2ms/step - loss: 3.2030 - mean_squared_error: 3.2030 - mean_absolute_error: 1.3497\n",
            "Epoch 137/200\n",
            "63/63 [==============================] - 0s 2ms/step - loss: 2.8097 - mean_squared_error: 2.8097 - mean_absolute_error: 1.2318\n",
            "Epoch 138/200\n",
            "63/63 [==============================] - 0s 2ms/step - loss: 3.3987 - mean_squared_error: 3.3987 - mean_absolute_error: 1.3298\n",
            "Epoch 139/200\n",
            "63/63 [==============================] - 0s 3ms/step - loss: 2.7914 - mean_squared_error: 2.7914 - mean_absolute_error: 1.2383\n",
            "Epoch 140/200\n",
            "63/63 [==============================] - 0s 3ms/step - loss: 2.1988 - mean_squared_error: 2.1988 - mean_absolute_error: 1.1201\n",
            "Epoch 141/200\n",
            "63/63 [==============================] - 0s 2ms/step - loss: 2.0791 - mean_squared_error: 2.0791 - mean_absolute_error: 1.0263\n",
            "Epoch 142/200\n",
            "63/63 [==============================] - 0s 2ms/step - loss: 3.8599 - mean_squared_error: 3.8599 - mean_absolute_error: 1.4186\n",
            "Epoch 143/200\n",
            "63/63 [==============================] - 0s 2ms/step - loss: 3.2758 - mean_squared_error: 3.2758 - mean_absolute_error: 1.2184\n",
            "Epoch 144/200\n",
            "63/63 [==============================] - 0s 2ms/step - loss: 3.8950 - mean_squared_error: 3.8950 - mean_absolute_error: 1.3941\n",
            "Epoch 145/200\n",
            "63/63 [==============================] - 0s 2ms/step - loss: 2.9286 - mean_squared_error: 2.9286 - mean_absolute_error: 1.2320\n",
            "Epoch 146/200\n",
            "63/63 [==============================] - 0s 2ms/step - loss: 2.3818 - mean_squared_error: 2.3818 - mean_absolute_error: 1.1710\n",
            "Epoch 147/200\n",
            "63/63 [==============================] - 0s 2ms/step - loss: 2.6037 - mean_squared_error: 2.6037 - mean_absolute_error: 1.2062\n",
            "Epoch 148/200\n",
            "63/63 [==============================] - 0s 2ms/step - loss: 2.4642 - mean_squared_error: 2.4642 - mean_absolute_error: 1.1983\n",
            "Epoch 149/200\n",
            "63/63 [==============================] - 0s 2ms/step - loss: 2.3461 - mean_squared_error: 2.3461 - mean_absolute_error: 1.1538\n",
            "Epoch 150/200\n",
            "63/63 [==============================] - 0s 2ms/step - loss: 2.9368 - mean_squared_error: 2.9368 - mean_absolute_error: 1.1979\n",
            "Epoch 151/200\n",
            "63/63 [==============================] - 0s 2ms/step - loss: 2.5002 - mean_squared_error: 2.5002 - mean_absolute_error: 1.1679\n",
            "Epoch 152/200\n",
            "63/63 [==============================] - 0s 2ms/step - loss: 2.8362 - mean_squared_error: 2.8362 - mean_absolute_error: 1.1654\n",
            "Epoch 153/200\n",
            "63/63 [==============================] - 0s 2ms/step - loss: 2.6278 - mean_squared_error: 2.6278 - mean_absolute_error: 1.2107\n",
            "Epoch 154/200\n",
            "63/63 [==============================] - 0s 2ms/step - loss: 2.1733 - mean_squared_error: 2.1733 - mean_absolute_error: 1.0923\n",
            "Epoch 155/200\n",
            "63/63 [==============================] - 0s 2ms/step - loss: 2.8873 - mean_squared_error: 2.8873 - mean_absolute_error: 1.1557\n",
            "Epoch 156/200\n",
            "63/63 [==============================] - 0s 2ms/step - loss: 2.0781 - mean_squared_error: 2.0781 - mean_absolute_error: 1.0672\n",
            "Epoch 157/200\n",
            "63/63 [==============================] - 0s 3ms/step - loss: 2.1739 - mean_squared_error: 2.1739 - mean_absolute_error: 1.0913\n",
            "Epoch 158/200\n",
            "63/63 [==============================] - 0s 2ms/step - loss: 2.6819 - mean_squared_error: 2.6819 - mean_absolute_error: 1.2422\n",
            "Epoch 159/200\n",
            "63/63 [==============================] - 0s 2ms/step - loss: 2.0169 - mean_squared_error: 2.0169 - mean_absolute_error: 1.0654\n",
            "Epoch 160/200\n",
            "63/63 [==============================] - 0s 2ms/step - loss: 2.4437 - mean_squared_error: 2.4437 - mean_absolute_error: 1.1679\n",
            "Epoch 161/200\n",
            "63/63 [==============================] - 0s 2ms/step - loss: 1.9064 - mean_squared_error: 1.9064 - mean_absolute_error: 1.0436\n",
            "Epoch 162/200\n",
            "63/63 [==============================] - 0s 3ms/step - loss: 2.1519 - mean_squared_error: 2.1519 - mean_absolute_error: 1.1032\n",
            "Epoch 163/200\n",
            "63/63 [==============================] - 0s 2ms/step - loss: 2.5272 - mean_squared_error: 2.5272 - mean_absolute_error: 1.2012\n",
            "Epoch 164/200\n",
            "63/63 [==============================] - 0s 2ms/step - loss: 2.0185 - mean_squared_error: 2.0185 - mean_absolute_error: 1.0095\n",
            "Epoch 165/200\n",
            "63/63 [==============================] - 0s 2ms/step - loss: 2.3618 - mean_squared_error: 2.3618 - mean_absolute_error: 1.1602\n",
            "Epoch 166/200\n",
            "63/63 [==============================] - 0s 2ms/step - loss: 1.8003 - mean_squared_error: 1.8003 - mean_absolute_error: 1.0119\n",
            "Epoch 167/200\n",
            "63/63 [==============================] - 0s 2ms/step - loss: 2.2089 - mean_squared_error: 2.2089 - mean_absolute_error: 1.1862\n",
            "Epoch 168/200\n",
            "63/63 [==============================] - 0s 2ms/step - loss: 3.0200 - mean_squared_error: 3.0200 - mean_absolute_error: 1.2936\n",
            "Epoch 169/200\n",
            "63/63 [==============================] - 0s 2ms/step - loss: 2.1174 - mean_squared_error: 2.1174 - mean_absolute_error: 1.1241\n",
            "Epoch 170/200\n",
            "63/63 [==============================] - 0s 2ms/step - loss: 2.5970 - mean_squared_error: 2.5970 - mean_absolute_error: 1.1164\n",
            "Epoch 171/200\n",
            "63/63 [==============================] - 0s 2ms/step - loss: 2.3791 - mean_squared_error: 2.3791 - mean_absolute_error: 1.1602\n",
            "Epoch 172/200\n",
            "63/63 [==============================] - 0s 2ms/step - loss: 2.3790 - mean_squared_error: 2.3790 - mean_absolute_error: 1.0907\n",
            "Epoch 173/200\n",
            "63/63 [==============================] - 0s 3ms/step - loss: 1.8319 - mean_squared_error: 1.8319 - mean_absolute_error: 0.9833\n",
            "Epoch 174/200\n",
            "63/63 [==============================] - 0s 3ms/step - loss: 2.4101 - mean_squared_error: 2.4101 - mean_absolute_error: 1.1855\n",
            "Epoch 175/200\n",
            "63/63 [==============================] - 0s 2ms/step - loss: 2.5199 - mean_squared_error: 2.5199 - mean_absolute_error: 1.2273\n",
            "Epoch 176/200\n",
            "63/63 [==============================] - 0s 2ms/step - loss: 2.2231 - mean_squared_error: 2.2231 - mean_absolute_error: 1.1366\n",
            "Epoch 177/200\n",
            "63/63 [==============================] - 0s 2ms/step - loss: 2.6691 - mean_squared_error: 2.6691 - mean_absolute_error: 1.1549\n",
            "Epoch 178/200\n",
            "63/63 [==============================] - 0s 3ms/step - loss: 2.0590 - mean_squared_error: 2.0590 - mean_absolute_error: 1.1367\n",
            "Epoch 179/200\n",
            "63/63 [==============================] - 0s 3ms/step - loss: 1.8650 - mean_squared_error: 1.8650 - mean_absolute_error: 1.0239\n",
            "Epoch 180/200\n",
            "63/63 [==============================] - 0s 2ms/step - loss: 2.3413 - mean_squared_error: 2.3413 - mean_absolute_error: 1.1136\n",
            "Epoch 181/200\n",
            "63/63 [==============================] - 0s 3ms/step - loss: 2.8340 - mean_squared_error: 2.8340 - mean_absolute_error: 1.2681\n",
            "Epoch 182/200\n",
            "63/63 [==============================] - 0s 3ms/step - loss: 2.1093 - mean_squared_error: 2.1093 - mean_absolute_error: 1.0722\n",
            "Epoch 183/200\n",
            "63/63 [==============================] - 0s 2ms/step - loss: 2.5934 - mean_squared_error: 2.5934 - mean_absolute_error: 1.1581\n",
            "Epoch 184/200\n",
            "63/63 [==============================] - 0s 3ms/step - loss: 2.4325 - mean_squared_error: 2.4325 - mean_absolute_error: 1.1746\n",
            "Epoch 185/200\n",
            "63/63 [==============================] - 0s 3ms/step - loss: 2.4441 - mean_squared_error: 2.4441 - mean_absolute_error: 1.1449\n",
            "Epoch 186/200\n",
            "63/63 [==============================] - 0s 2ms/step - loss: 2.3138 - mean_squared_error: 2.3138 - mean_absolute_error: 1.1403\n",
            "Epoch 187/200\n",
            "63/63 [==============================] - 0s 2ms/step - loss: 2.0403 - mean_squared_error: 2.0403 - mean_absolute_error: 1.0894\n",
            "Epoch 188/200\n",
            "63/63 [==============================] - 0s 2ms/step - loss: 1.9893 - mean_squared_error: 1.9893 - mean_absolute_error: 1.0327\n",
            "Epoch 189/200\n",
            "63/63 [==============================] - 0s 2ms/step - loss: 1.7195 - mean_squared_error: 1.7195 - mean_absolute_error: 0.9646\n",
            "Epoch 190/200\n",
            "63/63 [==============================] - 0s 2ms/step - loss: 2.7643 - mean_squared_error: 2.7643 - mean_absolute_error: 1.3097\n",
            "Epoch 191/200\n",
            "63/63 [==============================] - 0s 2ms/step - loss: 1.8211 - mean_squared_error: 1.8211 - mean_absolute_error: 1.0401\n",
            "Epoch 192/200\n",
            "63/63 [==============================] - 0s 3ms/step - loss: 1.9430 - mean_squared_error: 1.9430 - mean_absolute_error: 1.0437\n",
            "Epoch 193/200\n",
            "63/63 [==============================] - 0s 3ms/step - loss: 1.6365 - mean_squared_error: 1.6365 - mean_absolute_error: 0.9179\n",
            "Epoch 194/200\n",
            "63/63 [==============================] - 0s 3ms/step - loss: 1.9553 - mean_squared_error: 1.9553 - mean_absolute_error: 1.0238\n",
            "Epoch 195/200\n",
            "63/63 [==============================] - 0s 3ms/step - loss: 1.6882 - mean_squared_error: 1.6882 - mean_absolute_error: 0.9785\n",
            "Epoch 196/200\n",
            "63/63 [==============================] - 0s 2ms/step - loss: 2.1742 - mean_squared_error: 2.1742 - mean_absolute_error: 1.1610\n",
            "Epoch 197/200\n",
            "63/63 [==============================] - 0s 2ms/step - loss: 2.4046 - mean_squared_error: 2.4046 - mean_absolute_error: 1.1671\n",
            "Epoch 198/200\n",
            "63/63 [==============================] - 0s 2ms/step - loss: 1.9611 - mean_squared_error: 1.9611 - mean_absolute_error: 0.9914\n",
            "Epoch 199/200\n",
            "63/63 [==============================] - 0s 2ms/step - loss: 2.3501 - mean_squared_error: 2.3501 - mean_absolute_error: 1.1377\n",
            "Epoch 200/200\n",
            "63/63 [==============================] - 0s 2ms/step - loss: 1.9451 - mean_squared_error: 1.9451 - mean_absolute_error: 1.0671\n"
          ],
          "name": "stdout"
        }
      ]
    },
    {
      "cell_type": "markdown",
      "metadata": {
        "id": "pnF7Qe8nyiVB"
      },
      "source": [
        "## Evaluating the model"
      ]
    },
    {
      "cell_type": "code",
      "metadata": {
        "colab": {
          "base_uri": "https://localhost:8080/",
          "height": 320
        },
        "id": "aSS5DULhqBDM",
        "outputId": "5b29031a-9df2-477a-9d90-82044f630318"
      },
      "source": [
        "import matplotlib.pyplot as plt\r\n",
        "pd.DataFrame(model_history.history).plot(figsize=(8,5))\r\n",
        "plt.grid(True)\r\n",
        "#plt.gca().set_ylim(0,1)\r\n",
        "plt.show()"
      ],
      "execution_count": 88,
      "outputs": [
        {
          "output_type": "display_data",
          "data": {
            "image/png": "[encoded data removed]",
            "text/plain": [
              "<Figure size 576x360 with 1 Axes>"
            ]
          },
          "metadata": {
            "tags": [],
            "needs_background": "light"
          }
        }
      ]
    },
    {
      "cell_type": "code",
      "metadata": {
        "colab": {
          "base_uri": "https://localhost:8080/"
        },
        "id": "LujdEpN6pD4v",
        "outputId": "bc5f8bd3-6184-42b5-98ea-7600e88460fb"
      },
      "source": [
        "mae= model.evaluate(x_train_std,y_train)"
      ],
      "execution_count": 89,
      "outputs": [
        {
          "output_type": "stream",
          "text": [
            "10/10 [==============================] - 0s 2ms/step - loss: 1.8993 - mean_squared_error: 1.8993 - mean_absolute_error: 1.0176\n"
          ],
          "name": "stdout"
        }
      ]
    },
    {
      "cell_type": "code",
      "metadata": {
        "colab": {
          "base_uri": "https://localhost:8080/"
        },
        "id": "_gfuVik2C_xI",
        "outputId": "f94a6440-f180-40b1-ce1b-50777efc2a68"
      },
      "source": [
        "model.evaluate(x_test_std,y_test)"
      ],
      "execution_count": 90,
      "outputs": [
        {
          "output_type": "stream",
          "text": [
            "3/3 [==============================] - 0s 3ms/step - loss: 14.3057 - mean_squared_error: 14.3057 - mean_absolute_error: 2.4320\n"
          ],
          "name": "stdout"
        },
        {
          "output_type": "execute_result",
          "data": {
            "text/plain": [
              "[14.30569076538086, 14.30569076538086, 2.4320449829101562]"
            ]
          },
          "metadata": {
            "tags": []
          },
          "execution_count": 90
        }
      ]
    },
    {
      "cell_type": "code",
      "metadata": {
        "id": "eib1hqVBDiTM"
      },
      "source": [
        "prediction=model.predict(x_test_std)"
      ],
      "execution_count": 91,
      "outputs": []
    },
    {
      "cell_type": "code",
      "metadata": {
        "id": "Cdj-qnnuDtc3"
      },
      "source": [
        ""
      ],
      "execution_count": 91,
      "outputs": []
    },
    {
      "cell_type": "code",
      "metadata": {
        "id": "E49qrky9Dz7L"
      },
      "source": [
        "from sklearn.metrics import r2_score"
      ],
      "execution_count": 92,
      "outputs": []
    },
    {
      "cell_type": "code",
      "metadata": {
        "colab": {
          "base_uri": "https://localhost:8080/"
        },
        "id": "RK0IFXF-E3lF",
        "outputId": "d317f445-65cb-4c7e-cc9d-3162f31719b7"
      },
      "source": [
        "r2_score(y_test,prediction)"
      ],
      "execution_count": 93,
      "outputs": [
        {
          "output_type": "execute_result",
          "data": {
            "text/plain": [
              "0.7896564518650249"
            ]
          },
          "metadata": {
            "tags": []
          },
          "execution_count": 93
        }
      ]
    },
    {
      "cell_type": "code",
      "metadata": {
        "colab": {
          "base_uri": "https://localhost:8080/",
          "height": 265
        },
        "id": "ow-a0VCEFCVR",
        "outputId": "f29318b1-b0c3-49f5-80d8-d6ccaf845f68"
      },
      "source": [
        "import matplotlib.pyplot as plt\r\n",
        "plt.scatter(y_test,prediction)\r\n",
        "plt.show()"
      ],
      "execution_count": 94,
      "outputs": [
        {
          "output_type": "display_data",
          "data": {
            "image/png": "[encoded data removed]",
            "text/plain": [
              "<Figure size 432x288 with 1 Axes>"
            ]
          },
          "metadata": {
            "tags": [],
            "needs_background": "light"
          }
        }
      ]
    },
    {
      "cell_type": "code",
      "metadata": {
        "colab": {
          "base_uri": "https://localhost:8080/",
          "height": 296
        },
        "id": "zxTCw12EFT3n",
        "outputId": "b768dd43-ab2b-4504-f30a-e64bf084c465"
      },
      "source": [
        "plt.scatter(y_test,prediction)\r\n",
        "plt.xlim([0,plt.xlim()[1]])\r\n",
        "plt.ylim([0,plt.ylim()[1]])\r\n",
        "plt.plot([-100,100],[-100,100])\r\n",
        "plt.xlabel(\"True values\")\r\n",
        "plt.ylabel(\"Prediction\")"
      ],
      "execution_count": 95,
      "outputs": [
        {
          "output_type": "execute_result",
          "data": {
            "text/plain": [
              "Text(0, 0.5, 'Prediction')"
            ]
          },
          "metadata": {
            "tags": []
          },
          "execution_count": 95
        },
        {
          "output_type": "display_data",
          "data": {
            "image/png": "[encoded data removed]",
            "text/plain": [
              "<Figure size 432x288 with 1 Axes>"
            ]
          },
          "metadata": {
            "tags": [],
            "needs_background": "light"
          }
        }
      ]
    },
    {
      "cell_type": "code",
      "metadata": {
        "colab": {
          "base_uri": "https://localhost:8080/"
        },
        "id": "XRSotuW-GUwm",
        "outputId": "bcd892cf-629f-4049-f3bc-faec838d15d9"
      },
      "source": [
        "int(model.predict(sc.transform([[8,350,165,3693,11.5,70,1]])))"
      ],
      "execution_count": 96,
      "outputs": [
        {
          "output_type": "execute_result",
          "data": {
            "text/plain": [
              "16"
            ]
          },
          "metadata": {
            "tags": []
          },
          "execution_count": 96
        }
      ]
    },
    {
      "cell_type": "markdown",
      "metadata": {
        "id": "me737xGbynRS"
      },
      "source": [
        "## Save the model"
      ]
    },
    {
      "cell_type": "code",
      "metadata": {
        "id": "eaOHTPL0p9ya"
      },
      "source": [
        "model.save('model.h5')"
      ],
      "execution_count": 98,
      "outputs": []
    },
    {
      "cell_type": "code",
      "metadata": {
        "id": "74wChWVeqiyA"
      },
      "source": [
        ""
      ],
      "execution_count": null,
      "outputs": []
    }
  ]
}